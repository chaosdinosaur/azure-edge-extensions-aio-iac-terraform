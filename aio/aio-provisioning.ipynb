{
 "cells": [
  {
   "cell_type": "code",
   "execution_count": 27,
   "metadata": {
    "vscode": {
     "languageId": "shellscript"
    }
   },
   "outputs": [],
   "source": [
    "export SUFFIX=$(date +%s | cut -c6-10)\n",
    "export RESOURCE_GROUP=\"rg-aio-$SUFFIX\"\n",
    "export CLUSTER_NAME=\"mycluster\"\n",
    "export LOCATION=\"westus2\"\n",
    "export APP_NAME=\"sp-aio-$SUFFIX\""
   ]
  },
  {
   "cell_type": "code",
   "execution_count": null,
   "metadata": {
    "vscode": {
     "languageId": "shellscript"
    }
   },
   "outputs": [],
   "source": [
    "az login &"
   ]
  },
  {
   "cell_type": "markdown",
   "metadata": {},
   "source": [
    "> If you are in a GitHub Codespace and cannot use `--device-code` it will redirected to a \"localhost\" url. Copy the url and replace it in the next cell."
   ]
  },
  {
   "cell_type": "code",
   "execution_count": null,
   "metadata": {
    "vscode": {
     "languageId": "shellscript"
    }
   },
   "outputs": [],
   "source": [
    "curl '<URL>'"
   ]
  },
  {
   "cell_type": "code",
   "execution_count": 5,
   "metadata": {
    "vscode": {
     "languageId": "shellscript"
    }
   },
   "outputs": [],
   "source": [
    "# Id of the subscription where your resource group and Arc-enabled cluster will be created\n",
    "\n",
    "SUBSCRIPTION_ID=$(az account show --query id -o tsv)\n",
    "az account set -s $SUBSCRIPTION_ID"
   ]
  },
  {
   "cell_type": "code",
   "execution_count": null,
   "metadata": {
    "vscode": {
     "languageId": "shellscript"
    }
   },
   "outputs": [],
   "source": [
    "./provisioning/00-clean-up.sh"
   ]
  },
  {
   "cell_type": "code",
   "execution_count": null,
   "metadata": {
    "vscode": {
     "languageId": "shellscript"
    }
   },
   "outputs": [],
   "source": [
    "az ad sp create-for-rbac --name $APP_NAME --role owner --scopes /subscriptions/$SUBSCRIPTION_ID --json-auth"
   ]
  },
  {
   "cell_type": "code",
   "execution_count": 19,
   "metadata": {
    "vscode": {
     "languageId": "shellscript"
    }
   },
   "outputs": [
    {
     "name": "stdout",
     "output_type": "stream",
     "text": [
      "/workspaces/azure-edge-extensions-aio-iac-terraform/deploy /workspaces/azure-edge-extensions-aio-iac-terraform/aio\n"
     ]
    },
    {
     "name": "stdout",
     "output_type": "stream",
     "text": [
      "/workspaces/azure-edge-extensions-aio-iac-terraform/aio\n"
     ]
    }
   ],
   "source": [
    "pushd ../deploy\n",
    "cp ./sample-aio.auto.tfvars.example ./$CLUSTER_NAME.auto.tfvars\n",
    "\n",
    "cat << EOF >> $CLUSTER_NAME.auto.tfvars\n",
    "resource_group_name          = \"$RESOURCE_GROUP\"\n",
    "arc_cluster_name             = \"$CLUSTER_NAME\"\n",
    "key_vault_name               = \"$KEYVAULT_NAME\"\n",
    "EOF\n",
    "\n",
    "sed -i 's/vm_computer_name\\s*=\\s*\".*\"/vm_computer_name             = \"vm-'$CLUSTER_NAME'\"/' $CLUSTER_NAME.auto.tfvars\n",
    "sed -i 's/vm_username\\s*=\\s*\".*\"/vm_username                  = \"admin'$CLUSTER_NAME'\"/' $CLUSTER_NAME.auto.tfvars\n",
    "sed -i 's/vm_ssh_pub_key_file\\s*=\\s*\".*\"/vm_ssh_pub_key_file          = \"~/.ssh/id_aio_rsa.pub/' $CLUSTER_NAME.auto.tfvars\n",
    "popd"
   ]
  },
  {
   "cell_type": "code",
   "execution_count": null,
   "metadata": {
    "vscode": {
     "languageId": "shellscript"
    }
   },
   "outputs": [],
   "source": [
    "# Get the list of resource groups\n",
    "resource_groups=$(az group list --query \"[].name\" -o tsv)\n",
    "\n",
    "# Loop through each resource group\n",
    "for rg in $resource_groups\n",
    "do\n",
    "    echo \"Processing resource group: $rg\"\n",
    "    \n",
    "    # Run the clean-up script\n",
    "    az group delete --name $rg --yes --no-wait\n",
    "done"
   ]
  }
 ],
 "metadata": {
  "kernelspec": {
   "display_name": "Bash",
   "language": "bash",
   "name": "bash"
  },
  "language_info": {
   "codemirror_mode": "shell",
   "file_extension": ".sh",
   "mimetype": "text/x-sh",
   "name": "bash"
  }
 },
 "nbformat": 4,
 "nbformat_minor": 2
}
